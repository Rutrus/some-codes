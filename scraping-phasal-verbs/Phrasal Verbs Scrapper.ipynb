{
 "cells": [
  {
   "cell_type": "code",
   "execution_count": 2,
   "metadata": {},
   "outputs": [
    {
     "data": {
      "text/plain": [
       "'Trying to get a whole list of phrasal verbs'"
      ]
     },
     "execution_count": 2,
     "metadata": {},
     "output_type": "execute_result"
    }
   ],
   "source": [
    "import requests\n",
    "import csv\n",
    "import json\n",
    "from bs4 import BeautifulSoup\n",
    "\"\"\"Trying to get a whole list of phrasal verbs\"\"\""
   ]
  },
  {
   "cell_type": "code",
   "execution_count": 23,
   "metadata": {},
   "outputs": [
    {
     "data": {
      "text/plain": [
       "2377"
      ]
     },
     "execution_count": 23,
     "metadata": {},
     "output_type": "execute_result"
    }
   ],
   "source": [
    "def getList():\n",
    "    urlReq = requests.get(\"https://www.usingenglish.com/reference/phrasal-verbs/list.html\")\n",
    "    soup = BeautifulSoup(urlReq.content, \"lxml\")\n",
    "    anchorList =soup.select(\".pv-searchres ul li a\")\n",
    "    pvList = [[\"Phrasal Verb\",\"Link\"]]\n",
    "    for anchor in anchorList:\n",
    "        pvList.append([anchor.text,\"https://www.usingenglish.com\"+anchor[\"href\"]])\n",
    "\n",
    "    with open(\"Phrasal Verbs.csv\",\"w+\") as pvfile:\n",
    "        csv.writer(pvfile).writerows(pvList)\n",
    "\n",
    "    print(len(pvList))\n",
    "    \n",
    "getList()"
   ]
  },
  {
   "cell_type": "code",
   "execution_count": 8,
   "metadata": {},
   "outputs": [
    {
     "name": "stdout",
     "output_type": "stream",
     "text": [
      "Accept or follow a decision or rule - We have to ABIDE BY what the court says. - Inseparable\n"
     ]
    }
   ],
   "source": [
    "def testOnePage():\n",
    "    req = requests.get(\"https://www.usingenglish.com/reference/phrasal-verbs/abide+by.html\")\n",
    "\n",
    "    def clean(p):\n",
    "        p.strong.clear()\n",
    "        return p.text.strip()\n",
    "    sopa = BeautifulSoup(req.content,\"lxml\")\n",
    "    info = sopa.find(\"div\", class_=\"indent\")\n",
    "\n",
    "    meaning,example,_ = info.find_all(\"p\")\n",
    "    separable = info.find(\"li\").text.strip()\n",
    "    meaning = clean(meaning)\n",
    "    example = clean(example)\n",
    "    print(\"{} - {} - {}\".format(meaning,example,separable))\n",
    "\n",
    "testOnePage()"
   ]
  },
  {
   "cell_type": "code",
   "execution_count": 9,
   "metadata": {},
   "outputs": [
    {
     "name": "stdout",
     "output_type": "stream",
     "text": [
      "Saved 50 phrasal verbs into json\n",
      "Saved 100 phrasal verbs into json\n",
      "Saved 150 phrasal verbs into json\n",
      "Saved 200 phrasal verbs into json\n",
      "Saved 250 phrasal verbs into json\n",
      "Saved 300 phrasal verbs into json\n",
      "Saved 350 phrasal verbs into json\n",
      "Saved 400 phrasal verbs into json\n",
      "Saved 450 phrasal verbs into json\n",
      "Saved 500 phrasal verbs into json\n",
      "Saved 550 phrasal verbs into json\n",
      "Saved 600 phrasal verbs into json\n",
      "Saved 650 phrasal verbs into json\n",
      "Saved 700 phrasal verbs into json\n",
      "Saved 750 phrasal verbs into json\n",
      "Saved 800 phrasal verbs into json\n",
      "Saved 850 phrasal verbs into json\n",
      "Saved 900 phrasal verbs into json\n",
      "Saved 950 phrasal verbs into json\n",
      "Saved 1000 phrasal verbs into json\n",
      "Saved 1050 phrasal verbs into json\n",
      "Saved 1100 phrasal verbs into json\n",
      "Saved 1150 phrasal verbs into json\n",
      "Saved 1200 phrasal verbs into json\n",
      "Saved 1250 phrasal verbs into json\n",
      "Saved 1300 phrasal verbs into json\n",
      "Saved 1350 phrasal verbs into json\n",
      "Saved 1400 phrasal verbs into json\n",
      "Saved 1450 phrasal verbs into json\n",
      "Saved 1500 phrasal verbs into json\n",
      "Saved 1550 phrasal verbs into json\n",
      "Saved 1600 phrasal verbs into json\n",
      "Saved 1650 phrasal verbs into json\n",
      "Saved 1700 phrasal verbs into json\n",
      "Saved 1750 phrasal verbs into json\n",
      "Saved 1800 phrasal verbs into json\n",
      "Saved 1850 phrasal verbs into json\n",
      "Saved 1900 phrasal verbs into json\n",
      "Saved 1950 phrasal verbs into json\n",
      "Saved 2000 phrasal verbs into json\n",
      "Saved 2050 phrasal verbs into json\n",
      "Saved 2100 phrasal verbs into json\n",
      "Saved 2150 phrasal verbs into json\n",
      "Saved 2200 phrasal verbs into json\n",
      "Saved 2250 phrasal verbs into json\n",
      "Saved 2300 phrasal verbs into json\n",
      "Saved 2350 phrasal verbs into json\n"
     ]
    }
   ],
   "source": [
    "allInfo = [] # Not to be global, but is useful for reusing it in Jupyter\n",
    "def getEachPhrasal():\n",
    "    \"\"\"Time to scrape each URL looking for definitions\"\"\"\n",
    "    global allInfo\n",
    "\n",
    "    def clean(p):\n",
    "        p.strong.clear()\n",
    "        return p.text.strip()\n",
    "\n",
    "    with open(\"Phrasal Verbs.csv\") as linkList:\n",
    "        reader = csv.DictReader(linkList)\n",
    "        \n",
    "        for i,row in enumerate(reader):\n",
    "            html = requests.get(row[\"Link\"])\n",
    "            soup = BeautifulSoup(html.content,\"lxml\")\n",
    "            info = soup.find(\"div\", class_=\"indent\")\n",
    "            meaning,example,_ = info.find_all(\"p\")\n",
    "            row[\"Meaning\"] = clean(meaning)\n",
    "            row[\"Example\"] = clean(example)\n",
    "            notes = info.find_all(\"li\")\n",
    "            row[\"Notes\"] = []\n",
    "            for note in notes:\n",
    "                row[\"Notes\"].append(note.text.strip())\n",
    "            allInfo.append(row.copy())\n",
    "            if not i % 50 and i:\n",
    "                json.dump(allInfo,open(\"allPhrasal.json\",\"w+\"))\n",
    "                print(\"Saved\",i,\"phrasal verbs into json\")\n",
    "    json.dump(allInfo,open(\"allPhrasal.json\",\"w+\"))\n",
    "getEachPhrasal()"
   ]
  },
  {
   "cell_type": "code",
   "execution_count": 15,
   "metadata": {},
   "outputs": [
    {
     "name": "stdout",
     "output_type": "stream",
     "text": [
      "Max notes are: 3 Min notes: 1\n",
      "['Meaning', 'Link', 'Example', 'Phrasal Verb', 'Note 1', 'Note 2', 'Note 3']\n"
     ]
    }
   ],
   "source": [
    "def showMeKeys():\n",
    "    \"\"\"We are not sure how many notes are in the list\"\"\"\n",
    "    maxNotes = 0\n",
    "    minNotes = 2\n",
    "    allDataScrapped = json.load(open(\"allPhrasal.json\"))\n",
    "    for i,dictionary in enumerate(allDataScrapped):\n",
    "        maxNotes = max(maxNotes,len(dictionary[\"Notes\"]))\n",
    "        minNotes = min(minNotes,len(dictionary[\"Notes\"]))\n",
    "    print(\"Max notes are:\",maxNotes,\"Min notes:\",minNotes)\n",
    "    keys = list(allDataScrapped[0].keys())\n",
    "    keys.reverse()\n",
    "    keys.remove(\"Notes\")\n",
    "    keys += [\"Note \"+str(x+1) for x in range(maxNotes)]\n",
    "    print(keys)\n",
    "showMeKeys()"
   ]
  },
  {
   "cell_type": "code",
   "execution_count": 28,
   "metadata": {},
   "outputs": [],
   "source": [
    "def jsonToCsv():\n",
    "    from collections import defaultdict\n",
    "    \n",
    "    allDataScrapped = json.load(open(\"allPhrasal.json\"))\n",
    "    for index,dictionary in enumerate(allDataScrapped):\n",
    "        rowDict = defaultdict(str)\n",
    "        for key,value in dictionary.items():\n",
    "            if key != \"Notes\":\n",
    "                rowDict[key] = value\n",
    "            else:\n",
    "                if len(value) == 1:\n",
    "                    rowDict[\"Note 2\"] = note\n",
    "                else:\n",
    "                    for order,note in enumerate(value):\n",
    "                            rowDict[\"Note \"+str(order+1)] = note\n",
    "        del allDataScrapped[index][\"Notes\"]\n",
    "        allDataScrapped[index] = rowDict            \n",
    "        \n",
    "    \n",
    "    keys = ['Phrasal Verb', 'Meaning', 'Example', 'Note 1', 'Note 2', 'Note 3', 'Link']\n",
    "    with open(\"Phrasal Verbs Definitions.csv\", \"w+\") as pointFile:\n",
    "        csv.DictWriter(pointFile, fieldnames=keys).writeheader()\n",
    "    with open(\"Phrasal Verbs Definitions.csv\", \"a\") as pointFile:\n",
    "        writer = csv.DictWriter(pointFile, fieldnames=keys)\n",
    "        writer.writerows(allDataScrapped)\n",
    "jsonToCsv()"
   ]
  },
  {
   "cell_type": "code",
   "execution_count": null,
   "metadata": {
    "collapsed": true
   },
   "outputs": [],
   "source": []
  }
 ],
 "metadata": {
  "kernelspec": {
   "display_name": "Python 3",
   "language": "python",
   "name": "python3"
  },
  "language_info": {
   "codemirror_mode": {
    "name": "ipython",
    "version": 3
   },
   "file_extension": ".py",
   "mimetype": "text/x-python",
   "name": "python",
   "nbconvert_exporter": "python",
   "pygments_lexer": "ipython3",
   "version": "3.5.2"
  }
 },
 "nbformat": 4,
 "nbformat_minor": 2
}
