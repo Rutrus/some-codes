{
 "cells": [
  {
   "cell_type": "markdown",
   "metadata": {},
   "source": [
    "# File log parser - Procesamiento de un archivo de texto\n",
    "\n",
    "* [Apache log file](https://raw.githubusercontent.com/elastic/examples/master/Common%20Data%20Formats/apache_logs/apache_logs)\n",
    "\n",
    "### Methods\n",
    "\n",
    "1. Strings built-in\n",
    "2. RegEx expresiones regulares, módulo re\n",
    "3. CSV, módulo csv"
   ]
  },
  {
   "cell_type": "code",
   "execution_count": 3,
   "metadata": {},
   "outputs": [],
   "source": [
    "file = \"apache.log\""
   ]
  },
  {
   "cell_type": "code",
   "execution_count": 48,
   "metadata": {},
   "outputs": [],
   "source": [
    "listado = set()\n",
    "\n",
    "with open(file) as fp:\n",
    "    for linea in fp.readlines():\n",
    "        linea = linea.strip()\n",
    "        if not linea:\n",
    "            continue\n",
    "            \n",
    "        get_a, get_b = linea.find('\"GET'),linea.find('\" ')\n",
    "        get_req = linea[get_a+1:get_b]\n",
    "        code = linea[get_b+2:get_b+5]\n",
    "        get_req,code\n",
    "\n",
    "        is_200 = code == '200'\n",
    "        get_req = get_req.rsplit(None,1)[0]\n",
    "        is_png = get_req.lower().endswith('.png')\n",
    "\n",
    "        if is_png and is_200:\n",
    "            png_name = get_req.rsplit('/', 1)[-1]\n",
    "            listado.add(png_name)\n",
    "\n",
    "with open(\"resultados_string.txt\", \"w+\") as out_file:\n",
    "    for name in listado:\n",
    "        out_file.write(name+\"\\n\")\n"
   ]
  },
  {
   "cell_type": "code",
   "execution_count": 4,
   "metadata": {},
   "outputs": [],
   "source": [
    "import csv\n",
    "\n",
    "with open(file) as fp:\n",
    "    global png_\n",
    "    reader = csv.reader(fp,delimiter = \" \")\n",
    "    final_result = set()\n",
    "    for row in reader:\n",
    "        get_req = row[5].rsplit(None,1)[0]\n",
    "        is_200 = row[6] == '200'\n",
    "        is_png = get_req.lower().endswith('.png')\n",
    "        if is_200 and is_png:\n",
    "            png_name = get_req.rsplit('/', 1)[-1]\n",
    "            final_result.add(png_name)\n",
    "            \n",
    "with open(\"resultados_csv.txt\", \"w+\") as out_file:\n",
    "    for name in final_result:\n",
    "        out_file.write(name+\"\\n\")"
   ]
  }
 ],
 "metadata": {
  "kernelspec": {
   "display_name": "Python 3",
   "language": "python",
   "name": "python3"
  },
  "language_info": {
   "codemirror_mode": {
    "name": "ipython",
    "version": 3
   },
   "file_extension": ".py",
   "mimetype": "text/x-python",
   "name": "python",
   "nbconvert_exporter": "python",
   "pygments_lexer": "ipython3",
   "version": "3.6.9"
  }
 },
 "nbformat": 4,
 "nbformat_minor": 2
}
