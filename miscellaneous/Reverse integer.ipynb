{
 "cells": [
  {
   "cell_type": "raw",
   "metadata": {},
   "source": [
    "Hi, here's your problem today. This problem was recently asked by Amazon:\n",
    "\n",
    "Given an integer, reverse the digits. Do not convert the integer into a string and reverse it.\n",
    "\n",
    "Here's some examples and some starter code.\n",
    "\n",
    "def reverse_integer(num):\n",
    "  # Fill this in.\n",
    "  \n",
    "print(reverse_integer(135))\n",
    "# 531\n",
    "\n",
    "print(reverse_integer(-321))"
   ]
  },
  {
   "cell_type": "code",
   "execution_count": 3,
   "metadata": {},
   "outputs": [],
   "source": [
    "# Reverse an integer without convert it to string.\n",
    "# 73 => 37 ;; -123 => -321\n",
    "\n",
    "num = 73\n",
    "num_list = []\n",
    "minus = num < 0\n",
    "num = abs(num)\n",
    "\n",
    "factor = 10\n",
    "while True:\n",
    "    div, mod = divmod(num, factor)\n",
    "    num_list.append(mod)\n",
    "    num = div\n",
    "    if div == 0:\n",
    "        break\n",
    "    factor *= 10\n",
    "    \n"
   ]
  },
  {
   "cell_type": "code",
   "execution_count": 4,
   "metadata": {},
   "outputs": [
    {
     "data": {
      "text/plain": [
       "[3, 7]"
      ]
     },
     "execution_count": 4,
     "metadata": {},
     "output_type": "execute_result"
    }
   ],
   "source": [
    "num_list"
   ]
  },
  {
   "cell_type": "code",
   "execution_count": 5,
   "metadata": {},
   "outputs": [
    {
     "data": {
      "text/plain": [
       "37"
      ]
     },
     "execution_count": 5,
     "metadata": {},
     "output_type": "execute_result"
    }
   ],
   "source": [
    "total = 0\n",
    "factor = 1\n",
    "for num in num_list[::-1]:\n",
    "    total += num*factor\n",
    "    factor *= 10\n",
    "    \n",
    "total"
   ]
  },
  {
   "cell_type": "code",
   "execution_count": 10,
   "metadata": {},
   "outputs": [
    {
     "name": "stdout",
     "output_type": "stream",
     "text": [
      "[2, 3, 7, 14]\n"
     ]
    }
   ],
   "source": [
    "# Choose the repeated numbers\n",
    "\n",
    "def simpleFunction(some_array):\n",
    "    some_set = set(some_array)\n",
    "    result = []\n",
    "    for num in sorted(some_set):\n",
    "        if some_array.count(num) > 1:\n",
    "            result.append(num)\n",
    "    return result\n",
    "\n",
    "print(simpleFunction([1,2,2,3,3,3,4,6,7,7,10,14,14]))"
   ]
  },
  {
   "cell_type": "code",
   "execution_count": 41,
   "metadata": {},
   "outputs": [],
   "source": [
    "# Count every possible palindrome (sequence) in a string\n",
    "\n",
    "def is_palindrome(word):\n",
    "  return word == word[::-1]\n",
    "\n",
    "def solve(line):\n",
    "  line = line.upper()\n",
    "  counter = 0\n",
    "  for i, letter in enumerate(line):\n",
    "    index = i+1\n",
    "    while index < len(line):\n",
    "      if is_palindrome(line[i:index+1]):\n",
    "        counter += 1\n",
    "        print(line[i:index+1])\n",
    "      index += 1\n",
    "  return counter"
   ]
  },
  {
   "cell_type": "code",
   "execution_count": 46,
   "metadata": {},
   "outputs": [
    {
     "data": {
      "text/plain": [
       "4"
      ]
     },
     "execution_count": 46,
     "metadata": {},
     "output_type": "execute_result"
    }
   ],
   "source": [
    "solve(\"DABBADasdfas\")"
   ]
  },
  {
   "cell_type": "code",
   "execution_count": null,
   "metadata": {},
   "outputs": [],
   "source": []
  }
 ],
 "metadata": {
  "kernelspec": {
   "display_name": "Python 3",
   "language": "python",
   "name": "python3"
  },
  "language_info": {
   "codemirror_mode": {
    "name": "ipython",
    "version": 3
   },
   "file_extension": ".py",
   "mimetype": "text/x-python",
   "name": "python",
   "nbconvert_exporter": "python",
   "pygments_lexer": "ipython3",
   "version": "3.6.9"
  }
 },
 "nbformat": 4,
 "nbformat_minor": 2
}