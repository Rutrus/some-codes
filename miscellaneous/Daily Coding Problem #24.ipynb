{
 "cells": [
  {
   "cell_type": "markdown",
   "metadata": {},
   "source": [
    "Implement locking in a binary tree. A binary tree node can be locked or unlocked only if all of its descendants or ancestors are not locked.\n",
    "\n",
    "Design a binary tree node class with the following methods:\n",
    "\n",
    "* `is_locked`, which returns whether the node is locked\n",
    "* `lock`, which attempts to lock the node. If it cannot be locked, then it should return false. Otherwise, it should lock it and return true.\n",
    "* `unlock`, which unlocks the node. If it cannot be unlocked, then it should return false. Otherwise, it should unlock it and return true.\n",
    "\n",
    "You may augment the node to add parent pointers or any other property you would like. You may assume the class is used in a single-threaded program, so there is no need for actual locks or mutexes. Each method should run in O(h), where h is the height of the tree."
   ]
  },
  {
   "cell_type": "code",
   "execution_count": 94,
   "metadata": {},
   "outputs": [],
   "source": [
    "from collections import deque\n",
    "\n",
    "class Node:\n",
    "    is_locked = False\n",
    "    left = right = parent = None\n",
    "    \n",
    "    def __init__(self, key):\n",
    "        self.key = key\n",
    "        \n",
    "    def __str__(self):\n",
    "        return f'''\\\n",
    "{self.left.key if self.left else \"__\"}:{self.key}:{self.right.key if self.right else \"__\"}'''\n",
    "    \n",
    "    \n",
    "def insert(node, key):\n",
    "    if node == None:\n",
    "        return Node(key)\n",
    "    \n",
    "    if key < node.key:\n",
    "        lchild = insert(node.left, key)\n",
    "        node.left = lchild\n",
    "        lchild.parent = node\n",
    "    elif key > node.key:\n",
    "        rchild = insert(node.right, key)\n",
    "        node.right = rchild\n",
    "        rchild.parent = node\n",
    "        print(node)\n",
    "        \n",
    "    return node\n",
    "\n",
    "def ancestors_unlocked(node):\n",
    "    if node.parent == None:\n",
    "        return True\n",
    "    if node.parent.is_locked == False:\n",
    "        return False\n",
    "    print(node.parent)\n",
    "    return ancestors_unlocked(node.parent)\n",
    "\n",
    "def descendants_unlocked(node):\n",
    "    unlocked = True\n",
    "    if node.left:\n",
    "        if node.left.is_locked:\n",
    "            return False\n",
    "        unlocked = descendants_unlocked(node.left)\n",
    "    \n",
    "    if not unlocked:\n",
    "        return False\n",
    "    \n",
    "    if node.right:\n",
    "        if node.right.is_locked:\n",
    "            return False\n",
    "        unlocked = descendants_unlocked(node.right)\n",
    "    \n",
    "    return unlocked\n",
    "        \n",
    "def lock(node):\n",
    "    if ancestors_unlocked(node) and descendants_unlocked(node):\n",
    "        node.is_locked = True\n",
    "        return True\n",
    "    return False\n",
    "\n",
    "def unlock(node):\n",
    "    if descendants_unlocked(node) and ancestors_unlocked(node):\n",
    "        node.is_locked = False\n",
    "        return True\n",
    "    return False"
   ]
  },
  {
   "cell_type": "code",
   "execution_count": 95,
   "metadata": {
    "scrolled": true
   },
   "outputs": [
    {
     "name": "stdout",
     "output_type": "stream",
     "text": [
      "__:15:__\n"
     ]
    }
   ],
   "source": [
    "root = insert(None, 15)\n",
    "print(root)"
   ]
  },
  {
   "cell_type": "code",
   "execution_count": 96,
   "metadata": {},
   "outputs": [
    {
     "name": "stdout",
     "output_type": "stream",
     "text": [
      "__:15:17\n",
      "__:17:18\n",
      "__:15:17\n"
     ]
    }
   ],
   "source": [
    "a = insert(root, 17)\n",
    "b = insert(a,18)"
   ]
  },
  {
   "cell_type": "code",
   "execution_count": 102,
   "metadata": {},
   "outputs": [
    {
     "name": "stdout",
     "output_type": "stream",
     "text": [
      "__:15:17\n"
     ]
    }
   ],
   "source": [
    "print(b)"
   ]
  },
  {
   "cell_type": "code",
   "execution_count": 75,
   "metadata": {},
   "outputs": [
    {
     "data": {
      "text/plain": [
       "True"
      ]
     },
     "execution_count": 75,
     "metadata": {},
     "output_type": "execute_result"
    }
   ],
   "source": [
    "example = a\n",
    "lock(example)\n",
    "example.is_locked"
   ]
  },
  {
   "cell_type": "code",
   "execution_count": 76,
   "metadata": {},
   "outputs": [
    {
     "data": {
      "text/plain": [
       "False"
      ]
     },
     "execution_count": 76,
     "metadata": {},
     "output_type": "execute_result"
    }
   ],
   "source": [
    "unlock(root)\n",
    "root.is_locked"
   ]
  },
  {
   "cell_type": "code",
   "execution_count": null,
   "metadata": {},
   "outputs": [],
   "source": [
    "    def set_parent(node):\n",
    "        self.parent = node\n",
    "        \n",
    "    def ancestors_unlocked(self):\n",
    "        return False\n",
    "    \n",
    "    def descendants_unlocked(self, node = None):\n",
    "        \n",
    "        if self.left:\n",
    "            if not self.left.is_locked and self.left.descendants_unlocked():\n",
    "                return False\n",
    "        if self.right:\n",
    "        return False\n",
    "    \n",
    "    def lock(self):\n",
    "        if self.ancestors_unlocked() and self.descendants_unlocked():\n",
    "            is_locked = True\n",
    "        return is_locked\n",
    "    \n",
    "    def unlock(self):\n",
    "        if self.ancestors_unlocked() and self.descendants_unlocked():\n",
    "            is_locked = False\n",
    "            return True\n",
    "        return False"
   ]
  },
  {
   "cell_type": "code",
   "execution_count": 93,
   "metadata": {},
   "outputs": [
    {
     "data": {
      "text/plain": [
       "<__main__.Node at 0x7fe2720d1080>"
      ]
     },
     "execution_count": 93,
     "metadata": {},
     "output_type": "execute_result"
    }
   ],
   "source": [
    "Node(5)"
   ]
  },
  {
   "cell_type": "code",
   "execution_count": null,
   "metadata": {},
   "outputs": [],
   "source": []
  }
 ],
 "metadata": {
  "kernelspec": {
   "display_name": "Python 3",
   "language": "python",
   "name": "python3"
  },
  "language_info": {
   "codemirror_mode": {
    "name": "ipython",
    "version": 3
   },
   "file_extension": ".py",
   "mimetype": "text/x-python",
   "name": "python",
   "nbconvert_exporter": "python",
   "pygments_lexer": "ipython3",
   "version": "3.6.9"
  }
 },
 "nbformat": 4,
 "nbformat_minor": 2
}
