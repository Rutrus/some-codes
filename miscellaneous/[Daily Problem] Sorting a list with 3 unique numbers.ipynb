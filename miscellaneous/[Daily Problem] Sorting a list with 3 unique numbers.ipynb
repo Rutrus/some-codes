{
 "cells": [
  {
   "cell_type": "raw",
   "metadata": {},
   "source": [
    "Hi, here's your problem today. (You've reached the end of the problems for now - in the meanwhile, here is a random question. And visit CoderPro for more practice!) This problem was recently asked by Google:\n",
    "\n",
    "Given a list of numbers with only 3 unique numbers (1, 2, 3), sort the list in O(n) time.\n",
    "\n",
    "Example 1:\n",
    "Input: [3, 3, 2, 1, 3, 2, 1]\n",
    "Output: [1, 1, 2, 2, 3, 3, 3]\n",
    "def sortNums(nums):\n",
    "  # Fill this in.\n",
    "\n",
    "print sortNums([3, 3, 2, 1, 3, 2, 1])\n",
    "# [1, 1, 2, 2, 3, 3, 3]"
   ]
  },
  {
   "cell_type": "code",
   "execution_count": 9,
   "metadata": {},
   "outputs": [
    {
     "name": "stdout",
     "output_type": "stream",
     "text": [
      "[1, 1, 2, 2, 3, 3, 3]\n"
     ]
    }
   ],
   "source": [
    "from collections import defaultdict\n",
    "\n",
    "def sortNums(nums):\n",
    "    result = defaultdict(int)\n",
    "    for n in nums:\n",
    "        result[n] += 1\n",
    "        \n",
    "    response = []\n",
    "    for n in sorted(result.keys()):\n",
    "        response += [n]*result[n]\n",
    "    return response\n",
    "\n",
    "print( sortNums([3, 3, 2, 1, 3, 2, 1]))"
   ]
  },
  {
   "cell_type": "code",
   "execution_count": null,
   "metadata": {},
   "outputs": [],
   "source": []
  }
 ],
 "metadata": {
  "kernelspec": {
   "display_name": "Python 3",
   "language": "python",
   "name": "python3"
  },
  "language_info": {
   "codemirror_mode": {
    "name": "ipython",
    "version": 3
   },
   "file_extension": ".py",
   "mimetype": "text/x-python",
   "name": "python",
   "nbconvert_exporter": "python",
   "pygments_lexer": "ipython3",
   "version": "3.6.9"
  }
 },
 "nbformat": 4,
 "nbformat_minor": 2
}
