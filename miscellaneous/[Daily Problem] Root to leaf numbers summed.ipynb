{
 "cells": [
  {
   "cell_type": "code",
   "execution_count": 28,
   "metadata": {},
   "outputs": [
    {
     "name": "stdout",
     "output_type": "stream",
     "text": [
      "262\n"
     ]
    }
   ],
   "source": [
    "# Email 31 may\n",
    "# [Daily Problem] Root to leaf numbers summed \n",
    "\n",
    "class Node:\n",
    "    def __init__(self, value, left=None, right=None):\n",
    "        self.value = value\n",
    "        self.left = left\n",
    "        self.right = right\n",
    "\n",
    "    def __repr__(self):\n",
    "        return f\"({self.value}, {self.left}, {self.right})\"\n",
    "\n",
    "cases = []\n",
    "def begin(root, res = \"\"):\n",
    "    leaves = False\n",
    "    res += str(root.value)\n",
    "    if root.right:\n",
    "        begin(root.right,res)\n",
    "        leaves = True\n",
    "    if root.left:\n",
    "        begin(root.left,res)\n",
    "        leaves = True\n",
    "    if not leaves:\n",
    "        cases.append(res)\n",
    "\n",
    "def bst_numbers_sum(root, num=0):\n",
    "    begin(root)\n",
    "    return sum([int(case) for case in cases])\n",
    "\n",
    "\n",
    "n5 = Node(5)\n",
    "n4 = Node(4)\n",
    "n3 = Node(3)\n",
    "n2 = Node(2, n4, n5)\n",
    "n1 = Node(1, n2, n3)\n",
    "\n",
    "#      1\n",
    "#    /   \\\n",
    "#   2     3\n",
    "#  / \\\n",
    "# 4   5\n",
    "\n",
    "print(bst_numbers_sum(n1))\n",
    "# 262\n",
    "# Explanation: 124 + 125 + 13 = 262"
   ]
  },
  {
   "cell_type": "code",
   "execution_count": null,
   "metadata": {},
   "outputs": [],
   "source": []
  }
 ],
 "metadata": {
  "kernelspec": {
   "display_name": "Python 3",
   "language": "python",
   "name": "python3"
  },
  "language_info": {
   "codemirror_mode": {
    "name": "ipython",
    "version": 3
   },
   "file_extension": ".py",
   "mimetype": "text/x-python",
   "name": "python",
   "nbconvert_exporter": "python",
   "pygments_lexer": "ipython3",
   "version": "3.6.9"
  }
 },
 "nbformat": 4,
 "nbformat_minor": 2
}
