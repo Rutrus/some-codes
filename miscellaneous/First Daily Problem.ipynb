{
 "cells": [
  {
   "cell_type": "code",
   "execution_count": 1,
   "metadata": {},
   "outputs": [],
   "source": [
    "# There's a staircase with N steps, and you can climb 1 or 2 steps at a time. Given N,\n",
    "# write a function that returns the number of unique ways you can climb the staircase.\n",
    "# The order of the steps matters.\n",
    "\n",
    "# For example, if N is 4, then there are 5 unique ways:\n",
    "\n",
    "# 1, 1, 1, 1\n",
    "# 2, 1, 1\n",
    "# 1, 2, 1\n",
    "# 1, 1, 2\n",
    "# 2, 2\n",
    "# What if, instead of being able to climb 1 or 2 steps at a time, you could climb any number from\n",
    "# a set of positive integers X?\n",
    "# For example, if X = {1, 3, 5}, you could climb 1, 3, or 5 steps at a time. Generalize your function to take in X."
   ]
  },
  {
   "cell_type": "code",
   "execution_count": 2,
   "metadata": {},
   "outputs": [],
   "source": [
    "X = set((1,2))\n",
    "N = 4 #steps\n",
    "\n",
    "# efficient set\n",
    "def makeSortedList(X):\n",
    "    return [ num for num in sorted(X) if num <= N ]\n",
    "\n",
    "#repr([1,2,3])[1:-1]\n",
    "\n",
    "x = makeSortedList(X)\n",
    "\n",
    "x_len = len(x)\n",
    "freq = []\n",
    "\n",
    "def tryMin():\n",
    "    global freq\n",
    "    base = [0] * x_len\n",
    "    res = None\n",
    "    for i in range(N+1):\n",
    "        base[0] = i\n",
    "        calculo = calc(base)\n",
    "        if calculo == N:\n",
    "            freq.append(base)\n",
    "            return base\n",
    "        elif calculo > N:\n",
    "            base[0] -= 1\n",
    "            return base\n",
    "\n",
    "def calc(base):\n",
    "    return sum([num * x[i] for i,num in enumerate(base)])\n",
    "\n",
    "def tryFreq():\n",
    "    init = tryMin()\n",
    "    for n in n[::-1]:\n",
    "        pass\n"
   ]
  },
  {
   "cell_type": "code",
   "execution_count": 67,
   "metadata": {},
   "outputs": [],
   "source": [
    "\n",
    "def getVariacionesInferiores(maximos):\n",
    "    global resp # DEBUG\n",
    "    resp = []\n",
    "    orden = 0\n",
    "    while maximos[orden] == 0:\n",
    "        orden+=1\n",
    "\n",
    "    i = orden\n",
    "    while i >= 0:\n",
    "        valor = calc(maximos)\n",
    "        if valor == N:\n",
    "            resp.append(maximos.copy())\n",
    "            print(maximos, valor, True)\n",
    "        elif valor < N:\n",
    "            if i < orden:\n",
    "                maximos[i] += 1\n",
    "            else:\n",
    "                i -= 1\n",
    "            print(f\"probando {maximos}\")\n",
    "            continue\n",
    "\n",
    "        maximos[i] -= 1\n",
    "        i -= 1\n",
    "\n",
    "    # partial result\n",
    "    return  resp\n",
    "\n"
   ]
  },
  {
   "cell_type": "code",
   "execution_count": 5,
   "metadata": {},
   "outputs": [
    {
     "data": {
      "text/plain": [
       "[[4, 0], [0, 2]]"
      ]
     },
     "execution_count": 5,
     "metadata": {},
     "output_type": "execute_result"
    }
   ],
   "source": [
    "def getBase():\n",
    "    return [0] * len(x)\n",
    "\n",
    "def solve():\n",
    "    lista_max = []\n",
    "    for i, num in enumerate(x):\n",
    "        base = getBase()\n",
    "        base[i] = N//num\n",
    "        lista_max.append(base)\n",
    "\n",
    "    for maximos in lista_max:\n",
    "        if maximos[0]:\n",
    "            continue\n",
    "        for i,num in enumerate(maximos):\n",
    "            \n",
    "            \n",
    "        freq_var = getVariaciones(maximos)\n",
    "        ## add to combinations list\n",
    "    \n"
   ]
  },
  {
   "cell_type": "code",
   "execution_count": null,
   "metadata": {},
   "outputs": [],
   "source": []
  },
  {
   "cell_type": "code",
   "execution_count": 72,
   "metadata": {},
   "outputs": [
    {
     "name": "stdout",
     "output_type": "stream",
     "text": [
      "probando [49, 0, 0]\n"
     ]
    },
    {
     "data": {
      "text/plain": [
       "[]"
      ]
     },
     "execution_count": 72,
     "metadata": {},
     "output_type": "execute_result"
    }
   ],
   "source": [
    "N = 50\n",
    "X = [1,2,3]\n",
    "x = makeSortedList(X)\n",
    "getVariacionesInferiores([N//x[0],0,0])\n"
   ]
  },
  {
   "cell_type": "code",
   "execution_count": null,
   "metadata": {},
   "outputs": [],
   "source": []
  }
 ],
 "metadata": {
  "kernelspec": {
   "display_name": "Python 3",
   "language": "python",
   "name": "python3"
  },
  "language_info": {
   "codemirror_mode": {
    "name": "ipython",
    "version": 3
   },
   "file_extension": ".py",
   "mimetype": "text/x-python",
   "name": "python",
   "nbconvert_exporter": "python",
   "pygments_lexer": "ipython3",
   "version": "3.6.9"
  }
 },
 "nbformat": 4,
 "nbformat_minor": 2
}
