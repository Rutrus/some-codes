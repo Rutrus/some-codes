{
 "cells": [
  {
   "cell_type": "raw",
   "metadata": {},
   "source": [
    "Good morning! Here's your coding interview problem for today.\n",
    "\n",
    "This problem was asked by Airbnb.\n",
    "\n",
    "Given a list of integers, write a function that returns the largest sum of non-adjacent numbers. Numbers can be 0 or negative.\n",
    "\n",
    "For example, [2, 4, 6, 2, 5] should return 13, since we pick 2, 6, and 5. [5, 1, 1, 5] should return 10, since we pick 5 and 5.\n",
    "\n",
    "Follow-up: Can you do this in O(N) time and constant space?"
   ]
  },
  {
   "cell_type": "code",
   "execution_count": 47,
   "metadata": {},
   "outputs": [],
   "source": [
    "from collections import deque\n",
    "\n",
    "def bestCombo(last: bool, options: list):\n",
    "    if last:\n",
    "        return False\n",
    "    else:\n",
    "        a = options[0]+options[3]\n",
    "        b = options[0]+options[2]\n",
    "        c = options[1]+options[3]\n",
    "        if c > max(a,b):\n",
    "            return False\n",
    "        return True\n",
    "\n",
    "def solver(my_list):\n",
    "    last = None\n",
    "    suma = 0\n",
    "    if len(my_list)<4:\n",
    "        list0 = [0]*4\n",
    "        for i,num in my_list:\n",
    "            list0[i] = num\n",
    "    else:\n",
    "        list0 = my_list\n",
    "    list0 += [0]*4\n",
    "    for i in range(len(list0)-4):\n",
    "        last = bestCombo(last,list0[i:i+4])\n",
    "        if last:\n",
    "            suma += list0[i]\n",
    "            # print(list0[i],end=\" + \")\n",
    "    \n",
    "    print(suma)"
   ]
  },
  {
   "cell_type": "code",
   "execution_count": 48,
   "metadata": {},
   "outputs": [
    {
     "name": "stdout",
     "output_type": "stream",
     "text": [
      "10\n"
     ]
    }
   ],
   "source": [
    "one = [2, 4, 6, 2, 5,] # 13\n",
    "two = [5, 1, 1, 5] # 10\n",
    "solver(two)"
   ]
  },
  {
   "cell_type": "code",
   "execution_count": null,
   "metadata": {},
   "outputs": [],
   "source": []
  }
 ],
 "metadata": {
  "kernelspec": {
   "display_name": "Python 3",
   "language": "python",
   "name": "python3"
  },
  "language_info": {
   "codemirror_mode": {
    "name": "ipython",
    "version": 3
   },
   "file_extension": ".py",
   "mimetype": "text/x-python",
   "name": "python",
   "nbconvert_exporter": "python",
   "pygments_lexer": "ipython3",
   "version": "3.6.9"
  }
 },
 "nbformat": 4,
 "nbformat_minor": 2
}
